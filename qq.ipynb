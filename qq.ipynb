{
  "nbformat": 4,
  "nbformat_minor": 0,
  "metadata": {
    "colab": {
      "name": "qq.ipynb",
      "provenance": []
    },
    "kernelspec": {
      "name": "python3",
      "display_name": "Python 3"
    }
  },
  "cells": [
    {
      "cell_type": "code",
      "metadata": {
        "id": "1Kkvr5bJt0UM",
        "colab_type": "code",
        "colab": {}
      },
      "source": [
        ""
      ],
      "execution_count": 0,
      "outputs": []
    },
    {
      "cell_type": "markdown",
      "metadata": {
        "id": "eeBxYH2iuHtD",
        "colab_type": "text"
      },
      "source": [
        "#"
      ]
    },
    {
      "cell_type": "markdown",
      "metadata": {
        "id": "o9WZygG_ufI0",
        "colab_type": "text"
      },
      "source": [
        "# 初めてのノートブック\n",
        "\n",
        "**書きましょう**\n",
        "\n"
      ]
    },
    {
      "cell_type": "code",
      "metadata": {
        "id": "EvXW4SQGvh2O",
        "colab_type": "code",
        "outputId": "e6e23637-4f43-42ae-8ebb-ca950936b2a7",
        "colab": {
          "base_uri": "https://localhost:8080/",
          "height": 34
        }
      },
      "source": [
        "#計算する\n",
        "2*(3+4)\n"
      ],
      "execution_count": 0,
      "outputs": [
        {
          "output_type": "execute_result",
          "data": {
            "text/plain": [
              "14"
            ]
          },
          "metadata": {
            "tags": []
          },
          "execution_count": 1
        }
      ]
    },
    {
      "cell_type": "markdown",
      "metadata": {
        "id": "RCIL9WJVwTOn",
        "colab_type": "text"
      },
      "source": [
        "*出力してみましょう*\n",
        "\n",
        "```\n",
        "#First value:1\n",
        "\n",
        "\n",
        "```\n"
      ]
    },
    {
      "cell_type": "code",
      "metadata": {
        "id": "1SssCK8vyH0E",
        "colab_type": "code",
        "outputId": "c46d1b9b-dfe2-43af-fda7-553533eaf04f",
        "colab": {
          "base_uri": "https://localhost:8080/",
          "height": 34
        }
      },
      "source": [
        "'''\n",
        "ねをしゅつりょくする\n",
        "'''\n",
        "print ('First　velue: ',1)"
      ],
      "execution_count": 0,
      "outputs": [
        {
          "output_type": "stream",
          "text": [
            "First　velue:  1\n"
          ],
          "name": "stdout"
        }
      ]
    },
    {
      "cell_type": "markdown",
      "metadata": {
        "id": "DenAGbRa0h8n",
        "colab_type": "text"
      },
      "source": [
        "**`sort`の関数を呼び出す**\n",
        "\n",
        "1.以下のリストを作る\n",
        "\n",
        "\n",
        "\n",
        "```\n",
        "Numebers = [4,3,2,1]\n",
        "\n",
        "\n",
        "2.`sort()`の関数を使って、リストをソートする\n",
        "\n",
        "３．`print`を使って、出力する。\n"
      ]
    },
    {
      "cell_type": "code",
      "metadata": {
        "id": "6fKWCOh03oNf",
        "colab_type": "code",
        "outputId": "d9c66835-24da-4d44-c386-e9179e4f190c",
        "colab": {
          "base_uri": "https://localhost:8080/",
          "height": 34
        }
      },
      "source": [
        "Numbers = [4,3,2,1]\n",
        "Numbers.sort()\n",
        "print(Numbers)"
      ],
      "execution_count": 0,
      "outputs": [
        {
          "output_type": "stream",
          "text": [
            "[1, 2, 3, 4]\n"
          ],
          "name": "stdout"
        }
      ]
    }
  ]
}